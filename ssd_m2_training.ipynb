{
  "nbformat": 4,
  "nbformat_minor": 0,
  "metadata": {
    "colab": {
      "name": "ssd_m2_training.ipynb",
      "provenance": [],
      "collapsed_sections": [],
      "mount_file_id": "1nDOhX88Y455InCFcTSvJy_VrTUSjlYv_",
      "authorship_tag": "ABX9TyN4rQaYtlZKwG2Ng4LvAPW8",
      "include_colab_link": true
    },
    "kernelspec": {
      "name": "python3",
      "display_name": "Python 3"
    },
    "language_info": {
      "name": "python"
    },
    "accelerator": "GPU",
    "gpuClass": "standard"
  },
  "cells": [
    {
      "cell_type": "markdown",
      "metadata": {
        "id": "view-in-github",
        "colab_type": "text"
      },
      "source": [
        "<a href=\"https://colab.research.google.com/github/Fjolnirr/Stalker/blob/main/ssd_m2_training.ipynb\" target=\"_parent\"><img src=\"https://colab.research.google.com/assets/colab-badge.svg\" alt=\"Open In Colab\"/></a>"
      ]
    },
    {
      "cell_type": "markdown",
      "source": [
        "Mount Drive"
      ],
      "metadata": {
        "id": "7UIxpQM7PwSS"
      }
    },
    {
      "cell_type": "code",
      "source": [
        "from google.colab import drive\n",
        "drive.mount('/content/drive')"
      ],
      "metadata": {
        "id": "6xkYQt05p-lR"
      },
      "execution_count": null,
      "outputs": []
    },
    {
      "cell_type": "markdown",
      "source": [
        "Clone the SSD repo to the machine folder (Once is enough)"
      ],
      "metadata": {
        "id": "ZTGGf4HVP53j"
      }
    },
    {
      "cell_type": "code",
      "source": [
        "cd drive/MyDrive/machine"
      ],
      "metadata": {
        "id": "yj4ZUIhSp_M4"
      },
      "execution_count": null,
      "outputs": []
    },
    {
      "cell_type": "code",
      "source": [
        "!git clone https://github.com/dusty-nv/pytorch-ssd.git"
      ],
      "metadata": {
        "id": "MCBG73VBqEN4"
      },
      "execution_count": null,
      "outputs": []
    },
    {
      "cell_type": "markdown",
      "source": [
        "Cd to the SSD folder"
      ],
      "metadata": {
        "id": "RyrdGdzSQFqu"
      }
    },
    {
      "cell_type": "code",
      "source": [
        "cd pytorch-ssd"
      ],
      "metadata": {
        "id": "ns6cN4ml0P62"
      },
      "execution_count": null,
      "outputs": []
    },
    {
      "cell_type": "markdown",
      "source": [
        "LOAD IMAGES AND ANNOTATIONS"
      ],
      "metadata": {
        "id": "MtH8ZlhWQLIn"
      }
    },
    {
      "cell_type": "code",
      "source": [
        "!python3 open_images_downloader.py --class-names \"Apple,Orange,Banana,Strawberry,Grape,Pear,Pineapple,Watermelon\" --data=data/fruit"
      ],
      "metadata": {
        "id": "6zrDRNOr0Vjr"
      },
      "execution_count": null,
      "outputs": []
    },
    {
      "cell_type": "markdown",
      "source": [
        "LOADING MOBILENET V1 SSD"
      ],
      "metadata": {
        "id": "5hgS3GNmQRH-"
      }
    },
    {
      "cell_type": "code",
      "source": [
        "!wget https://nvidia.box.com/shared/static/djf5w54rjvpqocsiztzaandq1m3avr7c.pth -O models/mobilenet-v1-ssd-mp-0_675.pth"
      ],
      "metadata": {
        "id": "CkWpcPAe4ZLX"
      },
      "execution_count": null,
      "outputs": []
    },
    {
      "cell_type": "markdown",
      "source": [
        "LOADING MOBILENET V2 SSD LITE (Optional)"
      ],
      "metadata": {
        "id": "0nfAAHfGQW31"
      }
    },
    {
      "cell_type": "code",
      "source": [
        "wget -P models https://storage.googleapis.com/models-hao/mb2-ssd-lite-mp-0_686.pth"
      ],
      "metadata": {
        "id": "sIhou6zsPp-Q"
      },
      "execution_count": null,
      "outputs": []
    },
    {
      "cell_type": "markdown",
      "source": [
        "Start Training the SSD model"
      ],
      "metadata": {
        "id": "5mAWZk6GQeJ1"
      }
    },
    {
      "cell_type": "code",
      "source": [
        "!python3 train_ssd.py --data=data/fruit --model-dir=models/fruit --batch-size=4 --epochs=5"
      ],
      "metadata": {
        "id": "4XVyvW4e1rD8"
      },
      "execution_count": null,
      "outputs": []
    },
    {
      "cell_type": "markdown",
      "source": [
        "Transform the model into ONNX format"
      ],
      "metadata": {
        "id": "aL69-7bPQjA9"
      }
    },
    {
      "cell_type": "code",
      "source": [
        "!python3 onnx_export.py --model-dir=models/fruit"
      ],
      "metadata": {
        "id": "6bamjZFi8qrM"
      },
      "execution_count": null,
      "outputs": []
    },
    {
      "cell_type": "markdown",
      "source": [
        "TESTING the MODEL"
      ],
      "metadata": {
        "id": "uNEe2nVUQnjs"
      }
    },
    {
      "cell_type": "code",
      "source": [
        "IMAGES='/content/drive/MyDrive/machine/pytorch-ssd/data/fruit/test' "
      ],
      "metadata": {
        "id": "BDHHrL9C8yNp"
      },
      "execution_count": null,
      "outputs": []
    },
    {
      "cell_type": "code",
      "source": [
        "!python3 run_ssd_example.py mb1-ssd /content/drive/MyDrive/machine/pytorch-ssd/models/fruit/mb1-ssd-Epoch-4-Loss-4.182258134192609.pth models/fruit/labels.txt /content/drive/MyDrive/machine/pytorch-ssd/data/fruit/train/0154cc7df5860060.jpg"
      ],
      "metadata": {
        "id": "uNf8XCH668pk"
      },
      "execution_count": null,
      "outputs": []
    },
    {
      "cell_type": "code",
      "source": [
        "!python3 run_ssd_example.py mb2-ssd-lite /content/drive/MyDrive/machine/pytorch-ssd/models/fruit/mb1-ssd-Epoch-4-Loss-4.182258134192609.pth models/fruit/labels.txt /content/drive/MyDrive/machine/pytorch-ssd/data/fruit/train/000d1976fc8ebfe7.jpg"
      ],
      "metadata": {
        "id": "gFUqg_gKLzQg"
      },
      "execution_count": null,
      "outputs": []
    }
  ]
}